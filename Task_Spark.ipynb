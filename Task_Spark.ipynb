{
  "nbformat": 4,
  "nbformat_minor": 0,
  "metadata": {
    "colab": {
      "provenance": []
    },
    "kernelspec": {
      "name": "python3",
      "display_name": "Python 3"
    },
    "language_info": {
      "name": "python"
    }
  },
  "cells": [
    {
      "cell_type": "code",
      "execution_count": 1,
      "metadata": {
        "id": "9NutH0TyKJhc"
      },
      "outputs": [],
      "source": [
        "!apt-get install openjdk-8-jdk-headless -qq > /dev/null"
      ]
    },
    {
      "cell_type": "code",
      "source": [
        "!wget -q http://archive.apache.org/dist/spark/spark-3.1.1/spark-3.1.1-bin-hadoop3.2.tgz"
      ],
      "metadata": {
        "id": "C3uDyn1iKNAE"
      },
      "execution_count": 2,
      "outputs": []
    },
    {
      "cell_type": "code",
      "source": [
        "!tar xf spark-3.1.1-bin-hadoop3.2.tgz"
      ],
      "metadata": {
        "id": "mFYEePpJKcs2"
      },
      "execution_count": 3,
      "outputs": []
    },
    {
      "cell_type": "code",
      "source": [
        "!pip install -q findspark"
      ],
      "metadata": {
        "id": "TUuaQFayKfJW"
      },
      "execution_count": 4,
      "outputs": []
    },
    {
      "cell_type": "code",
      "source": [
        "import os\n",
        "os.environ[\"JAVA_HOME\"] = \"/usr/lib/jvm/java-8-openjdk-amd64\"\n",
        "os.environ[\"SPARK_HOME\"] = \"/content/spark-3.1.1-bin-hadoop3.2\""
      ],
      "metadata": {
        "id": "cDmk_J9uKh4t"
      },
      "execution_count": 5,
      "outputs": []
    },
    {
      "cell_type": "code",
      "source": [
        "!ls"
      ],
      "metadata": {
        "colab": {
          "base_uri": "https://localhost:8080/"
        },
        "id": "RSL3UvoHKm6b",
        "outputId": "7796d345-0175-442f-8349-86056ca31bc2"
      },
      "execution_count": 6,
      "outputs": [
        {
          "output_type": "stream",
          "name": "stdout",
          "text": [
            "sample_data  spark-3.1.1-bin-hadoop3.2\tspark-3.1.1-bin-hadoop3.2.tgz\n"
          ]
        }
      ]
    },
    {
      "cell_type": "code",
      "source": [
        "import findspark\n",
        "findspark.init()"
      ],
      "metadata": {
        "id": "x07TVtxDKprj"
      },
      "execution_count": 7,
      "outputs": []
    },
    {
      "cell_type": "code",
      "source": [
        "from pyspark.sql import SparkSession\n",
        "import pyspark.sql.types as T\n",
        "import pyspark.sql.functions as F\n",
        "from pyspark.sql.functions import udf\n",
        "from pyspark.sql.window import Window\n",
        "\n",
        "import datetime"
      ],
      "metadata": {
        "id": "VaVU7XfTKril"
      },
      "execution_count": 8,
      "outputs": []
    },
    {
      "cell_type": "code",
      "source": [
        "spark = SparkSession.builder.master(\"local[*]\").\\\n",
        "                    config(\"spark.driver.bindAddress\", \"localhost\").\\\n",
        "                    config(\"spark.ui.port\", \"4040\").\\\n",
        "                    getOrCreate()\n",
        "spark.conf.set(\"spark.sql.repl.eagerEval.enabled\", True) # Property used to format output tables better\n",
        "spark"
      ],
      "metadata": {
        "colab": {
          "base_uri": "https://localhost:8080/",
          "height": 219
        },
        "id": "AbXf_d-BKtcH",
        "outputId": "be762c07-a7a4-4b94-de3b-5dcb40b65d69"
      },
      "execution_count": 14,
      "outputs": [
        {
          "output_type": "execute_result",
          "data": {
            "text/plain": [
              "<pyspark.sql.session.SparkSession at 0x7fe28ce28610>"
            ],
            "text/html": [
              "\n",
              "            <div>\n",
              "                <p><b>SparkSession - in-memory</b></p>\n",
              "                \n",
              "        <div>\n",
              "            <p><b>SparkContext</b></p>\n",
              "\n",
              "            <p><a href=\"http://f03113486bc4:4040\">Spark UI</a></p>\n",
              "\n",
              "            <dl>\n",
              "              <dt>Version</dt>\n",
              "                <dd><code>v3.1.1</code></dd>\n",
              "              <dt>Master</dt>\n",
              "                <dd><code>local[*]</code></dd>\n",
              "              <dt>AppName</dt>\n",
              "                <dd><code>pyspark-shell</code></dd>\n",
              "            </dl>\n",
              "        </div>\n",
              "        \n",
              "            </div>\n",
              "        "
            ]
          },
          "metadata": {},
          "execution_count": 14
        }
      ]
    },
    {
      "cell_type": "code",
      "source": [
        "#### creds info\n",
        "url = \"\"\n",
        "db_name = \"public\"\n",
        "creds = {\n",
        "    \"user\": \"\",\n",
        "    \"password\": \"\",\n",
        "    \"driver\": \"\"\n",
        "}\n",
        "\n",
        "#### function for connect to Postgres table\n",
        "def get_table_conn(table_name):\n",
        "    full_table_name = db_name + \".\" + table_name\n",
        "    return spark.read.jdbc(url, \\\n",
        "                           full_table_name, \\\n",
        "                           properties = creds)"
      ],
      "metadata": {
        "id": "8Tj0H3O1KvuO"
      },
      "execution_count": 15,
      "outputs": []
    },
    {
      "cell_type": "code",
      "source": [
        "schema_web = T.StructType([\n",
        "                T.StructField(\"id\", T.StringType(), True),\n",
        "                T.StructField(\"timestamp\", T.LongType(), True),\n",
        "                T.StructField(\"type\", T.StringType(), True),\n",
        "                T.StructField(\"page_id\", T.IntegerType(), True),\n",
        "                T.StructField(\"tag\", T.StringType(), True),\n",
        "                T.StructField(\"sign\", T.BooleanType(), True)])"
      ],
      "metadata": {
        "id": "y9b6dZIJK0EG"
      },
      "execution_count": 39,
      "outputs": []
    },
    {
      "cell_type": "code",
      "source": [
        "data_web =[(1, 1667627426, \"visit\", 101, 'Sport', False),\n",
        "           (1, 1667627486, \"move\", 101, 'Sport', False),\n",
        "           (1, 1667627500, \"click\", 101, 'Sport', False),\n",
        "           (1, 1667627505, \"visit\", 102, 'Medicin', False),\n",
        "           (1, 1667627565, \"click\", 102, 'Politics', False),\n",
        "           (1, 1667627586, \"move\", 103, 'Sport', False),\n",
        "           (2, 1667628001, \"visit\", 104, 'Politics', True),\n",
        "           (2, 1667628101, \"scroll\", 104, 'Medicin', True),\n",
        "           (2, 1667628151, \"click\", 104, 'Politics', True),\n",
        "           (2, 1667628200, \"visit\", 105, 'Business', True),\n",
        "           (2, 1667628226, \"click\", 105, 'Medicin', True),\n",
        "           (2, 1667628317, \"visit\", 106, 'Medicin', True),\n",
        "           (2, 1667628359, \"move\", 106, 'Business', True),\n",
        "           (3, 1667628422, \"visit\", 101, 'Sport', False),\n",
        "           (3, 1667628486, \"scroll\", 101, 'Sport', False),\n",
        "           (4, 1667628505, \"visit\", 106, 'Business', False),\n",
        "           (5, 1667628511, \"move\", 101, 'Sport', True),\n",
        "           (5, 1667628901, \"move\", 101, 'Sport', True),\n",
        "           (5, 1667628926, \"visit\", 102, 'Medicin', True),\n",
        "           (5, 1667628976, \"click\", 102, 'Politics', True)]\n",
        "\n",
        "df_web = spark.createDataFrame(data = data_web, schema = schema_web)"
      ],
      "metadata": {
        "id": "qKzIDmFUK3Oz"
      },
      "execution_count": 40,
      "outputs": []
    },
    {
      "cell_type": "code",
      "source": [
        "df_web.columns"
      ],
      "metadata": {
        "colab": {
          "base_uri": "https://localhost:8080/"
        },
        "id": "8FkDGWRzLCZY",
        "outputId": "46780243-eaad-4923-b778-96a5daf7cbe6"
      },
      "execution_count": 41,
      "outputs": [
        {
          "output_type": "execute_result",
          "data": {
            "text/plain": [
              "['id', 'timestamp', 'type', 'page_id', 'tag', 'sign']"
            ]
          },
          "metadata": {},
          "execution_count": 41
        }
      ]
    },
    {
      "cell_type": "code",
      "source": [
        "df_web.show(5,truncate=False)"
      ],
      "metadata": {
        "colab": {
          "base_uri": "https://localhost:8080/"
        },
        "id": "79h0huRyYbd8",
        "outputId": "e21f82a0-421f-48fc-a9db-5af47cbc6fd1"
      },
      "execution_count": 42,
      "outputs": [
        {
          "output_type": "stream",
          "name": "stdout",
          "text": [
            "+---+----------+-----+-------+--------+-----+\n",
            "|id |timestamp |type |page_id|tag     |sign |\n",
            "+---+----------+-----+-------+--------+-----+\n",
            "|1  |1667627426|visit|101    |Sport   |false|\n",
            "|1  |1667627486|move |101    |Sport   |false|\n",
            "|1  |1667627500|click|101    |Sport   |false|\n",
            "|1  |1667627505|visit|102    |Medicin |false|\n",
            "|1  |1667627565|click|102    |Politics|false|\n",
            "+---+----------+-----+-------+--------+-----+\n",
            "only showing top 5 rows\n",
            "\n"
          ]
        }
      ]
    },
    {
      "cell_type": "markdown",
      "source": [
        "**Вывести топ-5 самых активных посетителей сайта**"
      ],
      "metadata": {
        "id": "k5obWFafYStt"
      }
    },
    {
      "cell_type": "code",
      "source": [
        "df_web.groupby(\"id\")\\\n",
        "      .agg(F.count(\"*\").alias(\"event_cnt\"))\\\n",
        "      .orderBy(\"event_cnt\", ascending = False)\\\n",
        "      .show()"
      ],
      "metadata": {
        "colab": {
          "base_uri": "https://localhost:8080/"
        },
        "id": "PbfeqH6fYSZh",
        "outputId": "a94ba2fb-c15d-45bb-a854-de03cce1515f"
      },
      "execution_count": 20,
      "outputs": [
        {
          "output_type": "stream",
          "name": "stdout",
          "text": [
            "+---+---------+\n",
            "| id|event_cnt|\n",
            "+---+---------+\n",
            "|  2|        7|\n",
            "|  1|        6|\n",
            "|  5|        4|\n",
            "|  3|        2|\n",
            "|  4|        1|\n",
            "+---+---------+\n",
            "\n"
          ]
        }
      ]
    },
    {
      "cell_type": "markdown",
      "source": [
        "**Посчитать процент посетителей, у которых есть ЛК**"
      ],
      "metadata": {
        "id": "drOFNUvBbhVa"
      }
    },
    {
      "cell_type": "code",
      "source": [
        "total_count = df_web.count()\n",
        "df_web_sign = df_web.filter((F.col('sign')=='True')).count()\n",
        "df_true_percent = df_web_sign*100/total_count\n",
        "\n",
        "\n",
        "print(\"TOTAL RECORD COUNT: \" + str(total_count))\n",
        "print(\"RECORD TRUE: \" + str(df_web_sign))\n",
        "print(\"RECORD TRUE Percent: \" + str(df_true_percent) + \"%\")"
      ],
      "metadata": {
        "id": "YxOdkm2RYSNn",
        "colab": {
          "base_uri": "https://localhost:8080/"
        },
        "outputId": "b30781a6-f516-4c70-e9fc-bafda7fe17f8"
      },
      "execution_count": 27,
      "outputs": [
        {
          "output_type": "stream",
          "name": "stdout",
          "text": [
            "TOTAL RECORD COUNT: 20\n",
            "RECORD TRUE: 11\n",
            "RECORD TRUE Percent: 55.0%\n"
          ]
        }
      ]
    },
    {
      "cell_type": "markdown",
      "source": [
        "**Вывести топ-5 страниц сайта по показателю общего кол-ва кликов на данной странице**"
      ],
      "metadata": {
        "id": "uQ-1d0pBcXAE"
      }
    },
    {
      "cell_type": "code",
      "source": [
        "windowSpec  = Window.partitionBy(\"page_id\")\n",
        "\n",
        "df_click.withColumn(\"sum_page\",F.count(\"page_id\").over(windowSpec))\\\n",
        "    .orderBy(F.col(\"sum_page\").desc())\\\n",
        "    .show(truncate=False)"
      ],
      "metadata": {
        "colab": {
          "base_uri": "https://localhost:8080/"
        },
        "id": "ZYx-WjqVfPxr",
        "outputId": "0f9a812e-4379-4d1b-ea2c-89c9fcdee042"
      },
      "execution_count": 55,
      "outputs": [
        {
          "output_type": "stream",
          "name": "stdout",
          "text": [
            "+---+----------+-----+-------+--------+-----+--------+\n",
            "|id |timestamp |type |page_id|tag     |sign |sum_page|\n",
            "+---+----------+-----+-------+--------+-----+--------+\n",
            "|5  |1667628976|click|102    |Politics|true |2       |\n",
            "|1  |1667627565|click|102    |Politics|false|2       |\n",
            "|1  |1667627500|click|101    |Sport   |false|1       |\n",
            "|2  |1667628151|click|104    |Politics|true |1       |\n",
            "|2  |1667628226|click|105    |Medicin |true |1       |\n",
            "+---+----------+-----+-------+--------+-----+--------+\n",
            "\n"
          ]
        }
      ]
    },
    {
      "cell_type": "markdown",
      "source": [
        "**Добавьте столбец к фрейму данных со значением временного диапазона в рамках суток с размером окна – 4 часа(0-4, 4-8, 8-12 и т.д.)**"
      ],
      "metadata": {
        "id": "OKNQigkpjG7q"
      }
    },
    {
      "cell_type": "code",
      "source": [
        "df_web = df_web.select(*[i for i in df_web.columns if i != \"timestamp\"],\n",
        "                    F.from_unixtime(\"timestamp\").alias(\"event_time\"))"
      ],
      "metadata": {
        "id": "KT5Q81tkj1sS"
      },
      "execution_count": 57,
      "outputs": []
    },
    {
      "cell_type": "code",
      "source": [
        "df_web.show(5)"
      ],
      "metadata": {
        "colab": {
          "base_uri": "https://localhost:8080/"
        },
        "id": "fUEZVfbPj3tE",
        "outputId": "d8ffc3a3-20cc-4ddf-f10a-949f481497f6"
      },
      "execution_count": 58,
      "outputs": [
        {
          "output_type": "stream",
          "name": "stdout",
          "text": [
            "+---+-----+-------+--------+-----+-------------------+\n",
            "| id| type|page_id|     tag| sign|         event_time|\n",
            "+---+-----+-------+--------+-----+-------------------+\n",
            "|  1|visit|    101|   Sport|false|2022-11-05 05:50:26|\n",
            "|  1| move|    101|   Sport|false|2022-11-05 05:51:26|\n",
            "|  1|click|    101|   Sport|false|2022-11-05 05:51:40|\n",
            "|  1|visit|    102| Medicin|false|2022-11-05 05:51:45|\n",
            "|  1|click|    102|Politics|false|2022-11-05 05:52:45|\n",
            "+---+-----+-------+--------+-----+-------------------+\n",
            "only showing top 5 rows\n",
            "\n"
          ]
        }
      ]
    },
    {
      "cell_type": "code",
      "source": [
        "df_time_period = df_web.withColumn(\"new\", F.hour(\"event_time\") / F.lit(4))\n",
        "df_time_period.show(10)"
      ],
      "metadata": {
        "colab": {
          "base_uri": "https://localhost:8080/"
        },
        "id": "i2w95JTNggHh",
        "outputId": "3a7191d8-1e2f-4f00-d463-248d39243c13"
      },
      "execution_count": 77,
      "outputs": [
        {
          "output_type": "stream",
          "name": "stdout",
          "text": [
            "+---+------+-------+--------+-----+-------------------+----+\n",
            "| id|  type|page_id|     tag| sign|         event_time| new|\n",
            "+---+------+-------+--------+-----+-------------------+----+\n",
            "|  1| visit|    101|   Sport|false|2022-11-05 05:50:26|1.25|\n",
            "|  1|  move|    101|   Sport|false|2022-11-05 05:51:26|1.25|\n",
            "|  1| click|    101|   Sport|false|2022-11-05 05:51:40|1.25|\n",
            "|  1| visit|    102| Medicin|false|2022-11-05 05:51:45|1.25|\n",
            "|  1| click|    102|Politics|false|2022-11-05 05:52:45|1.25|\n",
            "|  1|  move|    103|   Sport|false|2022-11-05 05:53:06|1.25|\n",
            "|  2| visit|    104|Politics| true|2022-11-05 06:00:01| 1.5|\n",
            "|  2|scroll|    104| Medicin| true|2022-11-05 06:01:41| 1.5|\n",
            "|  2| click|    104|Politics| true|2022-11-05 06:02:31| 1.5|\n",
            "|  2| visit|    105|Business| true|2022-11-05 06:03:20| 1.5|\n",
            "+---+------+-------+--------+-----+-------------------+----+\n",
            "only showing top 10 rows\n",
            "\n"
          ]
        }
      ]
    },
    {
      "cell_type": "markdown",
      "source": [
        "**Выведите временной промежуток на основе предыдущего задания, в течение которого было больше всего активностей на сайте.**"
      ],
      "metadata": {
        "id": "ICYWRzphlWRV"
      }
    },
    {
      "cell_type": "code",
      "source": [
        "from pyspark.sql.functions import max\n",
        "\n",
        "tt = df_time_period.groupby(\"new\")\\\n",
        "      .agg(F.count(\"*\").alias(\"new_count\"))\\\n",
        "      .orderBy(\"new_count\", ascending = False)\\\n",
        "      .limit(1)\n",
        "\n",
        "tt.show()\n",
        "\n"
      ],
      "metadata": {
        "colab": {
          "base_uri": "https://localhost:8080/"
        },
        "id": "IE1EvJ4Gn8EQ",
        "outputId": "0c0b043c-7fec-4df7-8228-bdcb101b3967"
      },
      "execution_count": 97,
      "outputs": [
        {
          "output_type": "stream",
          "name": "stdout",
          "text": [
            "+---+---------+\n",
            "|new|new_count|\n",
            "+---+---------+\n",
            "|1.5|       14|\n",
            "+---+---------+\n",
            "\n"
          ]
        }
      ]
    },
    {
      "cell_type": "markdown",
      "source": [
        "**Создайте второй фрейм данных, который будет содержать информацию о ЛК посетителя сайта со следующим списком атрибутов**"
      ],
      "metadata": {
        "id": "GheRLkTKt_wf"
      }
    },
    {
      "cell_type": "code",
      "source": [
        "schema_lk = T.StructType([\n",
        "                T.StructField(\"id\", T.StringType(), True),\n",
        "                T.StructField(\"user_id\", T.IntegerType(), True),\n",
        "                T.StructField(\"fio\", T.StringType(), True),\n",
        "                T.StructField(\"dob\", T.DateType(), True),\n",
        "                T.StructField(\"doc\", T.DateType(), True)])"
      ],
      "metadata": {
        "id": "hAgJYM3PUxUo"
      },
      "execution_count": 98,
      "outputs": []
    },
    {
      "cell_type": "code",
      "source": [
        "data_lk = [\n",
        "    (101, 2, \"Иванов Иван Иванович\", datetime.datetime(1990, 7, 5), datetime.datetime(2016, 8, 1)),\n",
        "    (102, 5, \"Александрова Александра александровна\", datetime.datetime(1995, 1, 22), datetime.datetime(2017, 10, 7)),\n",
        "    (103, 3, \"Кириллов Петр Андреевич\", datetime.datetime(1991, 4, 25), datetime.datetime(2019, 11, 8)),\n",
        "    (104, 1, \"Михайлов Олег Петрович\", datetime.datetime(1990, 11, 22), datetime.datetime(2020, 12, 17)),\n",
        "    (105, 4, \"Путейкина Софья Валерьевна\", datetime.datetime(1984, 3, 13), datetime.datetime(2021, 6, 2)),\n",
        "    (106, 6, \"Кнопкина Ольга Юрьевна\", datetime.datetime(1987, 7, 7), datetime.datetime(2016, 10, 15)),\n",
        "]"
      ],
      "metadata": {
        "id": "dKo708E5UKKF"
      },
      "execution_count": 99,
      "outputs": []
    },
    {
      "cell_type": "code",
      "source": [
        "df_lk = spark.createDataFrame(data = data_lk, schema = schema_lk)"
      ],
      "metadata": {
        "id": "GDnsnOY0UMF8"
      },
      "execution_count": 100,
      "outputs": []
    },
    {
      "cell_type": "code",
      "source": [
        "df_lk.show(3,truncate=False)"
      ],
      "metadata": {
        "colab": {
          "base_uri": "https://localhost:8080/"
        },
        "id": "jwoSUInxL3E1",
        "outputId": "c5c8ff84-636a-4283-b212-23fbc6bb264e"
      },
      "execution_count": 102,
      "outputs": [
        {
          "output_type": "stream",
          "name": "stdout",
          "text": [
            "+---+-------+-------------------------------------+----------+----------+\n",
            "|id |user_id|fio                                  |dob       |doc       |\n",
            "+---+-------+-------------------------------------+----------+----------+\n",
            "|101|2      |Иванов Иван Иванович                 |1990-07-05|2016-08-01|\n",
            "|102|5      |Александрова Александра александровна|1995-01-22|2017-10-07|\n",
            "|103|3      |Кириллов Петр Андреевич              |1991-04-25|2019-11-08|\n",
            "+---+-------+-------------------------------------+----------+----------+\n",
            "only showing top 3 rows\n",
            "\n"
          ]
        }
      ]
    },
    {
      "cell_type": "markdown",
      "source": [
        "**Вывести фамилии посетителей, которые читали хотя бы одну новость про спорт**"
      ],
      "metadata": {
        "id": "9u2hUdOSuamt"
      }
    },
    {
      "cell_type": "code",
      "source": [
        "df_join_all = df_lk.alias(\"lk\").join(df_web.alias(\"web\"),\n",
        "                                    on = [F.col(\"lk.user_id\") == F.col(\"web.id\")],\n",
        "                                    how = \"left\")"
      ],
      "metadata": {
        "id": "qiacQD50QOVb"
      },
      "execution_count": 103,
      "outputs": []
    },
    {
      "cell_type": "code",
      "source": [
        "df_join_all.show(2)"
      ],
      "metadata": {
        "colab": {
          "base_uri": "https://localhost:8080/"
        },
        "id": "xhWr1ANmvPhp",
        "outputId": "f3f02484-36c9-46c4-b306-f9fc3498c9c3"
      },
      "execution_count": 105,
      "outputs": [
        {
          "output_type": "stream",
          "name": "stdout",
          "text": [
            "+---+-------+--------------------+----------+----------+---+-----+-------+-----+-----+-------------------+\n",
            "| id|user_id|                 fio|       dob|       doc| id| type|page_id|  tag| sign|         event_time|\n",
            "+---+-------+--------------------+----------+----------+---+-----+-------+-----+-----+-------------------+\n",
            "|104|      1|Михайлов Олег Пет...|1990-11-22|2020-12-17|  1|visit|    101|Sport|false|2022-11-05 05:50:26|\n",
            "|104|      1|Михайлов Олег Пет...|1990-11-22|2020-12-17|  1| move|    101|Sport|false|2022-11-05 05:51:26|\n",
            "+---+-------+--------------------+----------+----------+---+-----+-------+-----+-----+-------------------+\n",
            "only showing top 2 rows\n",
            "\n"
          ]
        }
      ]
    },
    {
      "cell_type": "code",
      "source": [
        "df_sport = df_join_all.select(\"fio\", \"tag\")\\\n",
        "                      .filter((F.col('tag')=='Sport'))\\\n",
        "                      .select(\"fio\")\\\n",
        "                      .dropDuplicates([\"fio\"])\n",
        "df_sport.show(truncate=False)"
      ],
      "metadata": {
        "colab": {
          "base_uri": "https://localhost:8080/"
        },
        "id": "CnKKheKCvTCj",
        "outputId": "31c840b4-041a-4f88-f570-4b11d7bc1213"
      },
      "execution_count": 112,
      "outputs": [
        {
          "output_type": "stream",
          "name": "stdout",
          "text": [
            "+-------------------------------------+\n",
            "|fio                                  |\n",
            "+-------------------------------------+\n",
            "|Михайлов Олег Петрович               |\n",
            "|Александрова Александра александровна|\n",
            "|Кириллов Петр Андреевич              |\n",
            "+-------------------------------------+\n",
            "\n"
          ]
        }
      ]
    },
    {
      "cell_type": "code",
      "source": [
        "@udf(T.StringType())\n",
        "def take_surname(fio):\n",
        "    surname, name, middlename = fio.split(' ')\n",
        "    return surname"
      ],
      "metadata": {
        "id": "O5gondIUwHGH"
      },
      "execution_count": 115,
      "outputs": []
    },
    {
      "cell_type": "code",
      "source": [
        "df_sport.withColumn(\"surname\", take_surname(F.col(\"fio\")))\\\n",
        "        .select(\"surname\")"
      ],
      "metadata": {
        "colab": {
          "base_uri": "https://localhost:8080/",
          "height": 112
        },
        "id": "o7SNNSf7xOB4",
        "outputId": "0aa3a94d-46df-4804-80b0-5a319a9b8b7e"
      },
      "execution_count": 118,
      "outputs": [
        {
          "output_type": "execute_result",
          "data": {
            "text/plain": [
              "+------------+\n",
              "|     surname|\n",
              "+------------+\n",
              "|    Михайлов|\n",
              "|Александрова|\n",
              "|    Кириллов|\n",
              "+------------+"
            ],
            "text/html": [
              "<table border='1'>\n",
              "<tr><th>surname</th></tr>\n",
              "<tr><td>Михайлов</td></tr>\n",
              "<tr><td>Александрова</td></tr>\n",
              "<tr><td>Кириллов</td></tr>\n",
              "</table>\n"
            ]
          },
          "metadata": {},
          "execution_count": 118
        }
      ]
    },
    {
      "cell_type": "code",
      "source": [],
      "metadata": {
        "id": "5Uha4WLexfWE"
      },
      "execution_count": null,
      "outputs": []
    }
  ]
}